{
  "nbformat": 4,
  "nbformat_minor": 0,
  "metadata": {
    "colab": {
      "provenance": [],
      "include_colab_link": true
    },
    "kernelspec": {
      "name": "python3",
      "display_name": "Python 3"
    },
    "language_info": {
      "name": "python"
    }
  },
  "cells": [
    {
      "cell_type": "markdown",
      "metadata": {
        "id": "view-in-github",
        "colab_type": "text"
      },
      "source": [
        "<a href=\"https://colab.research.google.com/github/ItsSHALINISuresh/ML-in-Business/blob/main/MIS710%20Assignment/MIS710_A1_Template_T2_2023.ipynb\" target=\"_parent\"><img src=\"https://colab.research.google.com/assets/colab-badge.svg\" alt=\"Open In Colab\"/></a>"
      ]
    },
    {
      "cell_type": "markdown",
      "source": [
        "# MIS710 Machine Learning in Business - Assignment 1"
      ],
      "metadata": {
        "id": "x-ROo9Wdf7Mc"
      }
    },
    {
      "cell_type": "markdown",
      "source": [
        "**Student Name:** SHALINI SURESH\n",
        "\n",
        "**Student ID:** S223019007"
      ],
      "metadata": {
        "id": "6Ftd6UAfgJ_d"
      }
    },
    {
      "cell_type": "markdown",
      "source": [
        "<a id = \"cell_executivesummary\"></a>\n",
        "## 1. Business understandings, problem, solution and recommendations\n",
        "\n",
        "#### NOTE: all the instructions and hints given in this template should be removed from your final submission. (Including this line)\n",
        "\n",
        "**Aim:** To clearly articulate your understanding of the bussiness problem to management.\n",
        "\n",
        "_Use this section to briefly include the business understandings and the business problem to address, the aim of this project and recommendations for VicCrashAnalytics."
      ],
      "metadata": {
        "id": "PzwuTv8JgVYR"
      }
    },
    {
      "cell_type": "markdown",
      "source": [],
      "metadata": {
        "id": "HnUSPEyahfn7"
      }
    },
    {
      "cell_type": "markdown",
      "source": [
        "<a id = \"cell_exploration\"></a>\n",
        "# 2. Data understanding, preparation, explorations and visualisation\n",
        "\n",
        "#### NOTE: You can create multiple Markdown and Code cells to present your work.\n",
        "\n",
        "**Aim:** To demonstrate your understanding of data and report any insights emerging from data analysis\n",
        "\n",
        "This section can be used for:\n",
        "* Preparing (cleansing) for further processing.\n",
        "* Finding meaningful patterns in the data set as relevant to the case study and the problem.\n",
        "* Visualising variables related to the problem.\n",
        "\n",
        "This section may include:\n",
        "* Selection of relevant data features.\n",
        "* Selection of an attribute as label.\n",
        "* Approach to handling missing values (if any).\n",
        "* Transformations on the dataset (can be any necessary modifications to the data - string value or categorial variables to numerical, any numeric normalizations, or any type conversions such as nominal to numeric and the similar).\n",
        "* Univariate/Bivariate/Multivariate analyses (e.g., using visualizations etc.).\n",
        "\n",
        "Make sure your visualizations are accompanied by relevant discussions of the insights the analyses and visualizations will/should lead to."
      ],
      "metadata": {
        "id": "hcm5p3hygdpr"
      }
    },
    {
      "cell_type": "markdown",
      "source": [
        "## 2.1 Import the Libraries\n"
      ],
      "metadata": {
        "id": "B2O6WA-jLPwB"
      }
    },
    {
      "cell_type": "code",
      "source": [
        "# Load libraries for data manipulation,analysis and for calculation with arrays\n",
        "import pandas as pd\n",
        "import numpy as np\n",
        "\n",
        "#Load libraries for data visualisation\n",
        "import matplotlib.pyplot as plt\n",
        "import seaborn as sns\n",
        "\n"
      ],
      "metadata": {
        "id": "UDA6ok0rn5QU"
      },
      "execution_count": 6,
      "outputs": []
    },
    {
      "cell_type": "markdown",
      "source": [
        "## 2.2 Load the dataset"
      ],
      "metadata": {
        "id": "3_sdLVb7MDVu"
      }
    },
    {
      "cell_type": "code",
      "source": [
        "# Load data using github\n",
        "url = 'https://raw.githubusercontent.com/ItsSHALINISuresh/ML-in-Business/main/MIS710%20Assignment/Blackspot.csv'\n",
        "\n",
        "# Load data\n",
        "df = pd.read_csv(url)\n",
        "\n",
        "#explore the dataset\n",
        "print(df)\n",
        "\n",
        "print('Sample size:', df.shape[0])\n",
        "print('Number of columns:', df.shape[1])"
      ],
      "metadata": {
        "colab": {
          "base_uri": "https://localhost:8080/"
        },
        "id": "9xZCQtObMBrm",
        "outputId": "4767ba10-de5e-43f9-e2c2-89bc8975c1c6"
      },
      "execution_count": 14,
      "outputs": [
        {
          "output_type": "stream",
          "name": "stdout",
          "text": [
            "        ID               EZI_ROAD_NAME              ROAD_NAME ROAD_TYPE  \\\n",
            "0     3699                  GROVE ROAD                  GROVE      ROAD   \n",
            "1      576          BACCHUS MARSH ROAD          BACCHUS MARSH      ROAD   \n",
            "2      758                GRUBBED ROAD                GRUBBED      ROAD   \n",
            "3       89                VIGOR STREET                  VIGOR    STREET   \n",
            "4     8773                FAIRMAN ROAD                FAIRMAN      ROAD   \n",
            "...    ...                         ...                    ...       ...   \n",
            "5321   256  WARBURTON-WOODS POINT ROAD  WARBURTON-WOODS POINT      ROAD   \n",
            "5322  5182             GLENELG HIGHWAY                GLENELG   HIGHWAY   \n",
            "5323  4196          CAPE PATERSON ROAD          CAPE PATERSON      ROAD   \n",
            "5324  4352                MCPHANS ROAD                MCPHANS      ROAD   \n",
            "5325   223                 ROGERS ROAD                 ROGERS      ROAD   \n",
            "\n",
            "      AGE_LESS_THAN_15YRS_PCNT  AGE_15_24YRS_PCNT  AGE_25_44YRS_PCNT  \\\n",
            "0                     0.121988           0.058735           0.228916   \n",
            "1                     0.215894           0.141722           0.312583   \n",
            "2                     0.185304           0.102236           0.194888   \n",
            "3                     0.167763           0.062500           0.286184   \n",
            "4                     0.201238           0.108359           0.204334   \n",
            "...                        ...                ...                ...   \n",
            "5321                  0.152047           0.087719           0.198830   \n",
            "5322                  0.142119           0.090439           0.209302   \n",
            "5323                  0.163701           0.106762           0.170819   \n",
            "5324                  0.155039           0.173127           0.129199   \n",
            "5325                  0.197647           0.129412           0.200000   \n",
            "\n",
            "      AGE_45_64YRS_PCNT  AGE_18YRS_OVER_PCNT  AGE_65YRS_OVER_PCNT  ...  \\\n",
            "0              0.269578             0.853916             0.320783  ...   \n",
            "1              0.201325             0.741722             0.128477  ...   \n",
            "2              0.348243             0.757188             0.169329  ...   \n",
            "3              0.322368             0.815789             0.161184  ...   \n",
            "4              0.340557             0.761610             0.145511  ...   \n",
            "...                 ...                  ...                  ...  ...   \n",
            "5321           0.385965             0.812865             0.175439  ...   \n",
            "5322           0.328165             0.816537             0.229974  ...   \n",
            "5323           0.352313             0.779359             0.206406  ...   \n",
            "5324           0.310078             0.806202             0.232558  ...   \n",
            "5325           0.301176             0.764706             0.171765  ...   \n",
            "\n",
            "      Parkland%  Primary_Production%  Lq_Licenses      Intersection  \\\n",
            "0      0.358321             0.000000         14.0  non-Intersection   \n",
            "1      0.000000             1.000000          0.0      Intersection   \n",
            "2      1.000000             0.000000          0.0  non-Intersection   \n",
            "3      0.036599             0.000000          0.0  non-Intersection   \n",
            "4      0.000000             1.000000          0.0  non-Intersection   \n",
            "...         ...                  ...          ...               ...   \n",
            "5321   1.000000             0.000000          0.0  non-Intersection   \n",
            "5322   0.000000             0.155542          0.0  non-Intersection   \n",
            "5323   0.000000             1.000000          0.0  non-Intersection   \n",
            "5324   0.000000             1.000000          0.0  non-Intersection   \n",
            "5325   0.000000             1.000000          0.0  non-Intersection   \n",
            "\n",
            "      Supermarket  primary_school  secondary_school  km_post  traffic_signal  \\\n",
            "0               0               0                 0        0               0   \n",
            "1               0               0                 0        1               0   \n",
            "2               0               0                 0        0               0   \n",
            "3               0               0                 0        0               0   \n",
            "4               0               0                 0        0               0   \n",
            "...           ...             ...               ...      ...             ...   \n",
            "5321            0               0                 0        1               0   \n",
            "5322            0               0                 0        0               0   \n",
            "5323            0               0                 0        1               0   \n",
            "5324            0               0                 0        0               0   \n",
            "5325            0               0                 0        0               0   \n",
            "\n",
            "          Blackspot  \n",
            "0         Blackspot  \n",
            "1         Blackspot  \n",
            "2     non-Blackspot  \n",
            "3     non-Blackspot  \n",
            "4     non-Blackspot  \n",
            "...             ...  \n",
            "5321  non-Blackspot  \n",
            "5322  non-Blackspot  \n",
            "5323  non-Blackspot  \n",
            "5324  non-Blackspot  \n",
            "5325  non-Blackspot  \n",
            "\n",
            "[5326 rows x 36 columns]\n",
            "Sample size: 5326\n",
            "Number of columns: 36\n"
          ]
        }
      ]
    },
    {
      "cell_type": "markdown",
      "source": [
        "<a id = \"cell_modeling\"></a>\n",
        "#3. Machine learning model development\n",
        "\n",
        "#### NOTE: You can create multiple Markdown and Code cells to present your work.\n",
        "**Aim:** To demonstrate your understanding in AI modeling.\n",
        "\n",
        "_Use this section to show and discuss the process/processes as relevant to the case study, key steps to run and complete the experiment and details of models._  \n",
        "\n",
        "This section may include:\n",
        "* How to split dataset.\n",
        "* How to initiate machine learning model and fit training data.\n",
        "* How to use trained model to predict labels for training and testing dataset."
      ],
      "metadata": {
        "id": "R5koQAiwghJb"
      }
    },
    {
      "cell_type": "code",
      "source": [
        "# Code"
      ],
      "metadata": {
        "id": "LcJWbxQYn5Ai"
      },
      "execution_count": null,
      "outputs": []
    },
    {
      "cell_type": "markdown",
      "source": [
        "<a id = \"cell_Evaluation\"></a>\n",
        "## 4. Model evaluation                                                                                                                       \n",
        "\n",
        "#### NOTE: You can create multiple Markdown and Code cells to present your work.\n",
        "**Aim:** To demonstrate your understanding in model execution and evaluation.\n",
        "\n",
        "_Use this section to report your evaluation procedures and results.  Discuss/interpret the results of your experiments, discuss/compare the performance of the model(s), any steps you have taken to improve the performance of your model(s)._\n"
      ],
      "metadata": {
        "id": "A3_Y_UU1gq7X"
      }
    },
    {
      "cell_type": "code",
      "source": [
        "# Code"
      ],
      "metadata": {
        "id": "PmnC2D0gplMq"
      },
      "execution_count": null,
      "outputs": []
    },
    {
      "cell_type": "markdown",
      "source": [
        "## 5. Competition (optional)\n",
        "\n",
        "#### NOTE: You can create multiple Markdown and Code cells to present your work.\n",
        "**Aim:** To (optionally) participate in the competetion.\n",
        "\n",
        "_Use this section to report the deployment of the model on the unseen dataset. To ensure that the training and deployment datasets have similar features, it is important to preprocess the data in a consistent manner. This includes applying the same data preprocessing steps to both the training and deployment datasets. For example, if you are scaling the features in the training dataset, you should also scale the features in the deployment dataset using the same scaling method and parameters._\n",
        "\n",
        "_Apply the trained model to predict the label for the deployment dataset and submit the result (inspection dataframe) as a csv file with you assessment._\n",
        "\n",
        "\n"
      ],
      "metadata": {
        "id": "J5kOILXWPBXg"
      }
    },
    {
      "cell_type": "code",
      "source": [
        "import pandas as pd"
      ],
      "metadata": {
        "id": "l8eyiGtWQy5t"
      },
      "execution_count": null,
      "outputs": []
    },
    {
      "cell_type": "code",
      "source": [
        "#read the Blackspot_Competition.csv dataset"
      ],
      "metadata": {
        "id": "HNspRoUjQBGM"
      },
      "execution_count": null,
      "outputs": []
    },
    {
      "cell_type": "code",
      "source": [
        "# Apply data transformation to the deployment data,\n",
        "# ensure number of features and transformation of X and X_deploy are similar\n",
        "\n",
        "# Apply trained model to X_deploy\n",
        "# y_deploy = model(X_deploy)\n",
        "\n",
        "#\n",
        "# join unseen y_deploy with predicted value into a data frame\n",
        "inspection = pd.DataFrame({'Predicted':y_deploy})\n",
        "\n",
        "# join X_test with the new dataframe\n",
        "inspection = pd.concat([X_deploy, inspection], axis=1)\n",
        "\n",
        "# Submit this results.csv file to join the competition\n",
        "inspection.to_csv('results.csv')"
      ],
      "metadata": {
        "id": "ccB6wUxnQxe7"
      },
      "execution_count": null,
      "outputs": []
    }
  ]
}